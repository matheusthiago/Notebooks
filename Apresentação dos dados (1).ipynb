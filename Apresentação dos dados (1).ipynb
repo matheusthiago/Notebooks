{
 "cells": [
  {
   "cell_type": "markdown",
   "metadata": {},
   "source": [
    "Apresentação dos dados\n",
    "===\n",
    "Os dados que compõem as séries temporais, foram obtidos a partir do banco de dados da leitura do consumo em Watts do IoTaWatt e o ÉdaSuaConta. As amostras de tensão e corrente foram lidas a cada segundo, sendo somadas e salvas no banco de dados a cada 10 segundos. Dessa forma, os dados da 00h do dia 1º de Agosto de 2017 até às 23:59 do dia 30 deste mesmo mês, foram utilizados como as séries temporais a serem analisadas, com um total de 259.200 dados de leituras de cada fonte de dados. As figuras 1 e 2 mostram a disposição da série temporal das leituras do conjunto de dados de leitura de cada um dos 10 segundos do mês das residências que utilizaram o ÉdaSuaConta.\n",
    "\n"
   ]
  },
  {
   "cell_type": "markdown",
   "metadata": {},
   "source": [
    "Os dados que compõem as séries temporais foram obtidos a partir de dados simulados a partir de uma distribuição estatística que caracteriza o uso de energia elétrica residencial, que segundo Kuusela (2015), a variabilidade do consumo de energia residencial é bem descrita pelas distribuições lognormal, mesmo quando medidas em diferentes escalas de tempo ou população. Para dar mais embasamento a escolha dessa distribuição estatística foi feita buscas sobre o assunto e o uso de distribuições lognormais, onde a distribuição log-normal também aparecem em \"the lognormality of annual electricity consumption\" https://www.researchgate.net/profile/Robert_Weiss23/publication/321255251_Electricity_usage_type_selection_and_model_validation_based_on_electricity_usage_measurements/links/5a17340c4585155c26a77f83/Electricity-usage-type-selection-and-model-validation-based-on-electricity-usage-measurements.pdf. The lognormality of hourly electricity consumption\n",
    "https://ieeexplore.ieee.org/document/6258503. \n",
    "\n",
    "\n",
    "media=0.114490048208512\n",
    "sd=0.107138923341261 \n",
    "\n",
    "\n",
    "\n",
    "A partir daí, para aconstrução dos dados foi tirado o desvio padrão e a média do dataset IoTawatt e construí essas séries temporais abaixo, variando apenas a correlação temporal. Simulando dados coletados a cada 10 segundos, cada série tem 8640 observações, que seria a quantidade de 10 segundos por dia. \n",
    "No primeiro gráfico, a correlação do ponto n é com n-6 (para simular a correlação por minuto), \n",
    "no segundo, n-30 para simular 5 minutos e assim por diante\n",
    "\n",
    "Correlação do ponto atual com os anteriores. \n",
    "Min 1 - o ponto N tem uma correlação com os N-60, ou seja 60 posições antes de N \n",
    "min 120- O ponto N  tem uma correlação com os N-7200 posições \n",
    "Isso eu utilizei para simular correlação temporal entre os pontos, o ponto N depende dos pontos anteriores, se não seria muito aleatórios.\n",
    "\n",
    "\n"
   ]
  }
 ],
 "metadata": {
  "kernelspec": {
   "display_name": "R",
   "language": "R",
   "name": "ir"
  },
  "language_info": {
   "codemirror_mode": "r",
   "file_extension": ".r",
   "mimetype": "text/x-r-source",
   "name": "R",
   "pygments_lexer": "r",
   "version": "3.4.1"
  }
 },
 "nbformat": 4,
 "nbformat_minor": 2
}
