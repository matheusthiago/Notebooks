{
 "cells": [
  {
   "cell_type": "code",
   "execution_count": 1,
   "metadata": {},
   "outputs": [
    {
     "name": "stderr",
     "output_type": "stream",
     "text": [
      "Updating HTML index of packages in '.Library'\n",
      "Making 'packages.html' ... done\n"
     ]
    }
   ],
   "source": [
    "install.packages(\"imputeTestbench\")"
   ]
  },
  {
   "cell_type": "code",
   "execution_count": 2,
   "metadata": {},
   "outputs": [
    {
     "name": "stderr",
     "output_type": "stream",
     "text": [
      "Loading tidyverse: ggplot2\n",
      "Loading tidyverse: tibble\n",
      "Loading tidyverse: tidyr\n",
      "Loading tidyverse: readr\n",
      "Loading tidyverse: purrr\n",
      "Loading tidyverse: dplyr\n",
      "Conflicts with tidy packages ---------------------------------------------------\n",
      "filter(): dplyr, stats\n",
      "lag():    dplyr, stats\n",
      "Warning message:\n",
      "“replacing previous import ‘forecast::autolayer’ by ‘ggplot2::autolayer’ when loading ‘imputeTestbench’”"
     ]
    }
   ],
   "source": [
    "# load packages, set seed\n",
    "library(tidyverse)\n",
    "library(imputeTestbench)\n",
    "set.seed(123)\n"
   ]
  },
  {
   "cell_type": "code",
   "execution_count": 3,
   "metadata": {},
   "outputs": [],
   "source": [
    "dfDados=readRDS(\"../plumber/dfDadosIoTa.norm.rds\")\n",
    "  nrm = dfDados$dados[which(dfDados$dia==1)]\n",
    "  aust = dfDados$dados[which(dfDados$dia==2)]\n",
    "  nott = dfDados$dados[which(dfDados$dia==3)]\n",
    "# create nested list of datasets\n",
    "dats <- list(nrm, aust, nott) %>% enframe ('nms', 'dataIn')\n",
    "# create parameters to vary with imputeTestbench\n",
    "prms <- crossing(smps = c('mcar', 'mar'), blck = c(20, 100), nms = dats$nms) %>%mutate( # blck does not matter for mcar\n",
    "    blck = ifelse(smps %in% 'mcar', NA, blck)\n",
    "  ) %>% unique\n",
    "# join parameters with data\n",
    "# map parameter and data to impute_errors\n",
    "ests <- prms %>%\n",
    "  left_join(dats, by = 'nms') %>%\n",
    "  mutate(\n",
    "    est = pmap(\n",
    "      list(smps = smps, blck = blck, dataIn = dataIn),\n",
    "      .f = impute_errors,\n",
    "      errorParameter = 'mape'\n",
    "      )\n",
    "    )"
   ]
  },
  {
   "cell_type": "raw",
   "metadata": {},
   "source": [
    "aa <- impute_errors(dats, errorParameter = 'mae')\n",
    "aa\n",
    "plot_errors(aa)"
   ]
  }
 ],
 "metadata": {
  "kernelspec": {
   "display_name": "R",
   "language": "R",
   "name": "ir"
  },
  "language_info": {
   "codemirror_mode": "r",
   "file_extension": ".r",
   "mimetype": "text/x-r-source",
   "name": "R",
   "pygments_lexer": "r",
   "version": "3.4.1"
  }
 },
 "nbformat": 4,
 "nbformat_minor": 2
}
