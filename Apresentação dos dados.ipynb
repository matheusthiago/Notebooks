{
 "cells": [
  {
   "cell_type": "markdown",
   "metadata": {},
   "source": [
    "Apresentação dos dados\n",
    "===\n",
    "Os dados que compõem as séries temporais foram obtidos a partir de dados simulados a partir de uma distribuição estatística que caracteriza o uso de energia elétrica residencial, que segundo Kuusela (2015), a variabilidade do consumo de energia residencial é bem descrita pelas distribuições lognormal, mesmo quando medidas em diferentes escalas de tempo ou população. Para dar mais embasamento a escolha dessa distribuição estatística foi feita buscas sobre o assunto e o uso de distribuições lognormais, onde a distribuição log-normal também aparecem em \"the lognormality of annual electricity consumption\" https://www.researchgate.net/profile/Robert_Weiss23/publication/321255251_Electricity_usage_type_selection_and_model_validation_based_on_electricity_usage_measurements/links/5a17340c4585155c26a77f83/Electricity-usage-type-selection-and-model-validation-based-on-electricity-usage-measurements.pdf. The lognormality of hourly electricity consumption\n",
    "https://ieeexplore.ieee.org/document/6258503. \n",
    "\n",
    "\n",
    "media=0.114490048208512\n",
    "sd=0.107138923341261 \n",
    "\n",
    "A partir daí, para a construção dos dados foi tirado o desvio padrão e a média de um dataset real e foi feita a série temporal dada pela fórmula abaixo: \n",
    "\n",
    "\n",
    "\n",
    "Para um ponto qualquer n da série temporal, o mesmo tem uma relação com o ponto n-720 (para simular a correlação do ponto de observação atual com o ponto a 15 minutos disntante), isso se dá pela natureza  das séries temporais.\n",
    "Isso eu utilizei para simular correlação temporal entre os pontos, o ponto N depende dos pontos anteriores, se não seria muito aleatórios.\n",
    "\n",
    "\n",
    "\n",
    "\n",
    "\n"
   ]
  },
  {
   "cell_type": "code",
   "execution_count": null,
   "metadata": {},
   "outputs": [],
   "source": []
  }
 ],
 "metadata": {
  "kernelspec": {
   "display_name": "R",
   "language": "R",
   "name": "ir"
  },
  "language_info": {
   "codemirror_mode": "r",
   "file_extension": ".r",
   "mimetype": "text/x-r-source",
   "name": "R",
   "pygments_lexer": "r",
   "version": "3.4.1"
  }
 },
 "nbformat": 4,
 "nbformat_minor": 2
}
